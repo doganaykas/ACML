{
 "cells": [
  {
   "cell_type": "code",
   "execution_count": 1,
   "metadata": {},
   "outputs": [
    {
     "name": "stderr",
     "output_type": "stream",
     "text": [
      "Using TensorFlow backend.\n"
     ]
    }
   ],
   "source": [
    "# Necessary libraries\n",
    "import tensorflow as tf\n",
    "import cv2\n",
    "import numpy as np\n",
    "import keras\n",
    "import matplotlib.pyplot as plt\n",
    "from keras.models import Sequential\n",
    "from keras.layers import Conv2D, Flatten, MaxPooling2D, UpSampling2D\n",
    "import random"
   ]
  },
  {
   "cell_type": "code",
   "execution_count": 2,
   "metadata": {},
   "outputs": [],
   "source": [
    "random.seed(14)"
   ]
  },
  {
   "cell_type": "markdown",
   "metadata": {},
   "source": [
    "### Exercise 1.1: Train-test splits and Normalization"
   ]
  },
  {
   "cell_type": "code",
   "execution_count": 3,
   "metadata": {},
   "outputs": [],
   "source": [
    "# Loading the dataset\n",
    "(x_train, y_train), (x_test, y_test) = tf.keras.datasets.cifar10.load_data()"
   ]
  },
  {
   "cell_type": "code",
   "execution_count": 4,
   "metadata": {},
   "outputs": [],
   "source": [
    "# Normalizing the data\n",
    "x_train_input = np.divide(x_train, 255)\n",
    "x_test_input = np.divide(x_test, 255)"
   ]
  },
  {
   "cell_type": "code",
   "execution_count": 5,
   "metadata": {},
   "outputs": [
    {
     "name": "stdout",
     "output_type": "stream",
     "text": [
      "WARNING:tensorflow:From C:\\Users\\Dogan\\anaconda3\\lib\\site-packages\\tensorflow_core\\python\\ops\\resource_variable_ops.py:1630: calling BaseResourceVariable.__init__ (from tensorflow.python.ops.resource_variable_ops) with constraint is deprecated and will be removed in a future version.\n",
      "Instructions for updating:\n",
      "If using Keras pass *_constraint arguments to layers.\n",
      "WARNING:tensorflow:From C:\\Users\\Dogan\\anaconda3\\lib\\site-packages\\keras\\backend\\tensorflow_backend.py:4070: The name tf.nn.max_pool is deprecated. Please use tf.nn.max_pool2d instead.\n",
      "\n",
      "Model: \"sequential_1\"\n",
      "_________________________________________________________________\n",
      "Layer (type)                 Output Shape              Param #   \n",
      "=================================================================\n",
      "conv2d_1 (Conv2D)            (None, 32, 32, 8)         224       \n",
      "_________________________________________________________________\n",
      "max_pooling2d_1 (MaxPooling2 (None, 16, 16, 8)         0         \n",
      "_________________________________________________________________\n",
      "conv2d_2 (Conv2D)            (None, 16, 16, 12)        876       \n",
      "_________________________________________________________________\n",
      "max_pooling2d_2 (MaxPooling2 (None, 8, 8, 12)          0         \n",
      "_________________________________________________________________\n",
      "conv2d_3 (Conv2D)            (None, 8, 8, 16)          1744      \n",
      "_________________________________________________________________\n",
      "up_sampling2d_1 (UpSampling2 (None, 16, 16, 16)        0         \n",
      "_________________________________________________________________\n",
      "conv2d_4 (Conv2D)            (None, 16, 16, 12)        1740      \n",
      "_________________________________________________________________\n",
      "up_sampling2d_2 (UpSampling2 (None, 32, 32, 12)        0         \n",
      "_________________________________________________________________\n",
      "conv2d_5 (Conv2D)            (None, 32, 32, 3)         327       \n",
      "=================================================================\n",
      "Total params: 4,911\n",
      "Trainable params: 4,911\n",
      "Non-trainable params: 0\n",
      "_________________________________________________________________\n",
      "None\n"
     ]
    }
   ],
   "source": [
    "# Autoencoder\n",
    "model = Sequential()\n",
    "model.add(Conv2D(8, (3, 3), activation='relu', padding=\"same\", input_shape=(32, 32, 3)))\n",
    "model.add(MaxPooling2D(pool_size=(2, 2), padding='same'))\n",
    "model.add(Conv2D(12, (3, 3), activation='relu', padding=\"same\"))\n",
    "model.add(MaxPooling2D(pool_size=(2, 2), padding='same'))\n",
    "model.add(Conv2D(16, (3, 3), activation='relu', padding=\"same\"))\n",
    "model.add(UpSampling2D(size=(2, 2)))\n",
    "model.add(Conv2D(12, (3, 3), activation='relu', padding=\"same\"))\n",
    "model.add(UpSampling2D(size=(2, 2)))\n",
    "model.add(Conv2D(3, (3, 3), activation='relu', padding=\"same\"))\n",
    "model.compile(loss='mean_squared_error', optimizer='adam')\n",
    "print(model.summary())"
   ]
  },
  {
   "cell_type": "markdown",
   "metadata": {},
   "source": [
    "### Exercise 1.2: Training the model"
   ]
  },
  {
   "cell_type": "code",
   "execution_count": 6,
   "metadata": {
    "scrolled": true
   },
   "outputs": [
    {
     "name": "stdout",
     "output_type": "stream",
     "text": [
      "WARNING:tensorflow:From C:\\Users\\Dogan\\anaconda3\\lib\\site-packages\\keras\\backend\\tensorflow_backend.py:422: The name tf.global_variables is deprecated. Please use tf.compat.v1.global_variables instead.\n",
      "\n",
      "Train on 44444 samples, validate on 5556 samples\n",
      "Epoch 1/10\n",
      "44444/44444 [==============================] - 55s 1ms/step - loss: 0.0123 - val_loss: 0.0066\n",
      "Epoch 2/10\n",
      "44444/44444 [==============================] - 56s 1ms/step - loss: 0.0061 - val_loss: 0.0057\n",
      "Epoch 3/10\n",
      "44444/44444 [==============================] - 52s 1ms/step - loss: 0.0054 - val_loss: 0.0052\n",
      "Epoch 4/10\n",
      "44444/44444 [==============================] - 52s 1ms/step - loss: 0.0051 - val_loss: 0.0048\n",
      "Epoch 5/10\n",
      "44444/44444 [==============================] - 53s 1ms/step - loss: 0.0048 - val_loss: 0.0046\n",
      "Epoch 6/10\n",
      "44444/44444 [==============================] - 52s 1ms/step - loss: 0.0046 - val_loss: 0.0049\n",
      "Epoch 7/10\n",
      "44444/44444 [==============================] - 53s 1ms/step - loss: 0.0045 - val_loss: 0.0043\n",
      "Epoch 8/10\n",
      "44444/44444 [==============================] - 54s 1ms/step - loss: 0.0043 - val_loss: 0.0042\n",
      "Epoch 9/10\n",
      "44444/44444 [==============================] - 54s 1ms/step - loss: 0.0043 - val_loss: 0.0041\n",
      "Epoch 10/10\n",
      "44444/44444 [==============================] - 56s 1ms/step - loss: 0.0042 - val_loss: 0.0041\n"
     ]
    },
    {
     "data": {
      "text/plain": [
       "<keras.callbacks.callbacks.History at 0x23ed1f4ce88>"
      ]
     },
     "execution_count": 6,
     "metadata": {},
     "output_type": "execute_result"
    }
   ],
   "source": [
    "# Training the model\n",
    "model.fit(x_train_input, x_train_input, validation_split=1/9, epochs=10)"
   ]
  },
  {
   "cell_type": "code",
   "execution_count": 7,
   "metadata": {},
   "outputs": [
    {
     "name": "stdout",
     "output_type": "stream",
     "text": [
      "10000/10000 [==============================] - 3s 256us/step\n"
     ]
    },
    {
     "data": {
      "text/plain": [
       "0.0041450805895030494"
      ]
     },
     "execution_count": 7,
     "metadata": {},
     "output_type": "execute_result"
    }
   ],
   "source": [
    "# Test error\n",
    "result = model.evaluate(x_test_input, x_test_input)\n",
    "result"
   ]
  },
  {
   "cell_type": "code",
   "execution_count": 8,
   "metadata": {},
   "outputs": [],
   "source": [
    "# Predicting for the inputs\n",
    "x_pred = model.predict(x_test_input)\n",
    "x_pred = np.multiply(x_pred, 255)\n",
    "x_pred = x_pred.astype(int)"
   ]
  },
  {
   "cell_type": "code",
   "execution_count": 9,
   "metadata": {},
   "outputs": [
    {
     "name": "stderr",
     "output_type": "stream",
     "text": [
      "Clipping input data to the valid range for imshow with RGB data ([0..1] for floats or [0..255] for integers).\n",
      "Clipping input data to the valid range for imshow with RGB data ([0..1] for floats or [0..255] for integers).\n"
     ]
    },
    {
     "data": {
      "text/plain": [
       "<matplotlib.image.AxesImage at 0x23ed4a5c908>"
      ]
     },
     "execution_count": 9,
     "metadata": {},
     "output_type": "execute_result"
    },
    {
     "data": {
      "image/png": "[encoded data removed]",
      "text/plain": [
       "<Figure size 432x288 with 6 Axes>"
      ]
     },
     "metadata": {
      "needs_background": "light"
     },
     "output_type": "display_data"
    }
   ],
   "source": [
    "# Displaying the reconstructions\n",
    "fig, axs = plt.subplots(3, 2)\n",
    "axs[0, 0].imshow(x_test[0])\n",
    "axs[1, 0].imshow(x_test[1])\n",
    "axs[2, 0].imshow(x_test[2])\n",
    "\n",
    "axs[0, 1].imshow(x_pred[0])\n",
    "axs[1, 1].imshow(x_pred[1])\n",
    "axs[2, 1].imshow(x_pred[2])"
   ]
  },
  {
   "cell_type": "markdown",
   "metadata": {},
   "source": [
    "### Exercise 2.1: Size of the 2-D convolutional layer"
   ]
  },
  {
   "cell_type": "markdown",
   "metadata": {},
   "source": [
    "C((((W-K+2P)/S) + 1)**2)"
   ]
  },
  {
   "cell_type": "markdown",
   "metadata": {},
   "source": [
    "W – Input volume. K – Kernel size. P – Padding. S – Stride. C – Number of channels."
   ]
  },
  {
   "cell_type": "markdown",
   "metadata": {},
   "source": [
    "#### Size of the first convolutional layer"
   ]
  },
  {
   "cell_type": "code",
   "execution_count": 10,
   "metadata": {},
   "outputs": [],
   "source": [
    "W = 32\n",
    "K = 3\n",
    "P = 1\n",
    "S = 1\n",
    "C = 8"
   ]
  },
  {
   "cell_type": "code",
   "execution_count": 11,
   "metadata": {},
   "outputs": [
    {
     "data": {
      "text/plain": [
       "8192.0"
      ]
     },
     "execution_count": 11,
     "metadata": {},
     "output_type": "execute_result"
    }
   ],
   "source": [
    "s1 = C*((((W-K+2*P)/S) + 1)**2)\n",
    "s1"
   ]
  },
  {
   "cell_type": "markdown",
   "metadata": {},
   "source": [
    "#### Size of the second convolutional layer"
   ]
  },
  {
   "cell_type": "code",
   "execution_count": 12,
   "metadata": {},
   "outputs": [],
   "source": [
    "W = 16\n",
    "K = 3\n",
    "P = 1\n",
    "S = 1\n",
    "C = 12"
   ]
  },
  {
   "cell_type": "code",
   "execution_count": 13,
   "metadata": {},
   "outputs": [
    {
     "data": {
      "text/plain": [
       "3072.0"
      ]
     },
     "execution_count": 13,
     "metadata": {},
     "output_type": "execute_result"
    }
   ],
   "source": [
    "s2 = C*((((W-K+2*P)/S) + 1)**2)\n",
    "s2"
   ]
  },
  {
   "cell_type": "markdown",
   "metadata": {},
   "source": [
    "#### Size of the latent space representation "
   ]
  },
  {
   "cell_type": "code",
   "execution_count": 14,
   "metadata": {},
   "outputs": [],
   "source": [
    "W = 8\n",
    "K = 3\n",
    "P = 1\n",
    "S = 1\n",
    "C = 16"
   ]
  },
  {
   "cell_type": "code",
   "execution_count": 15,
   "metadata": {},
   "outputs": [
    {
     "data": {
      "text/plain": [
       "1024.0"
      ]
     },
     "execution_count": 15,
     "metadata": {},
     "output_type": "execute_result"
    }
   ],
   "source": [
    "s3 = C*((((W-K+2*P)/S) + 1)**2)\n",
    "s3"
   ]
  },
  {
   "cell_type": "markdown",
   "metadata": {},
   "source": [
    "### Exercise 2.2: Other architecture attempts"
   ]
  },
  {
   "cell_type": "markdown",
   "metadata": {},
   "source": [
    "#### Default structure"
   ]
  },
  {
   "cell_type": "code",
   "execution_count": 16,
   "metadata": {},
   "outputs": [
    {
     "name": "stdout",
     "output_type": "stream",
     "text": [
      "Model: \"sequential_2\"\n",
      "_________________________________________________________________\n",
      "Layer (type)                 Output Shape              Param #   \n",
      "=================================================================\n",
      "conv2d_6 (Conv2D)            (None, 32, 32, 8)         224       \n",
      "_________________________________________________________________\n",
      "max_pooling2d_3 (MaxPooling2 (None, 16, 16, 8)         0         \n",
      "_________________________________________________________________\n",
      "conv2d_7 (Conv2D)            (None, 16, 16, 12)        876       \n",
      "_________________________________________________________________\n",
      "max_pooling2d_4 (MaxPooling2 (None, 8, 8, 12)          0         \n",
      "_________________________________________________________________\n",
      "conv2d_8 (Conv2D)            (None, 8, 8, 16)          1744      \n",
      "_________________________________________________________________\n",
      "up_sampling2d_3 (UpSampling2 (None, 16, 16, 16)        0         \n",
      "_________________________________________________________________\n",
      "conv2d_9 (Conv2D)            (None, 16, 16, 12)        1740      \n",
      "_________________________________________________________________\n",
      "up_sampling2d_4 (UpSampling2 (None, 32, 32, 12)        0         \n",
      "_________________________________________________________________\n",
      "conv2d_10 (Conv2D)           (None, 32, 32, 3)         327       \n",
      "=================================================================\n",
      "Total params: 4,911\n",
      "Trainable params: 4,911\n",
      "Non-trainable params: 0\n",
      "_________________________________________________________________\n",
      "None\n"
     ]
    }
   ],
   "source": [
    "model = Sequential()\n",
    "model.add(Conv2D(8, (3, 3), activation='relu', padding=\"same\", input_shape=(32, 32, 3)))\n",
    "model.add(MaxPooling2D(pool_size=(2, 2), padding='same'))\n",
    "model.add(Conv2D(12, (3, 3), activation='relu', padding=\"same\"))\n",
    "model.add(MaxPooling2D(pool_size=(2, 2), padding='same'))\n",
    "model.add(Conv2D(16, (3, 3), activation='relu', padding=\"same\"))\n",
    "model.add(UpSampling2D(size=(2, 2)))\n",
    "model.add(Conv2D(12, (3, 3), activation='relu', padding=\"same\"))\n",
    "model.add(UpSampling2D(size=(2, 2)))\n",
    "model.add(Conv2D(3, (3, 3), activation='relu', padding=\"same\"))\n",
    "model.compile(loss='mean_squared_error', optimizer='adam')\n",
    "print(model.summary())"
   ]
  },
  {
   "cell_type": "code",
   "execution_count": 17,
   "metadata": {
    "scrolled": true
   },
   "outputs": [
    {
     "name": "stdout",
     "output_type": "stream",
     "text": [
      "Train on 44444 samples, validate on 5556 samples\n",
      "Epoch 1/1\n",
      "44444/44444 [==============================] - 54s 1ms/step - loss: 0.0113 - val_loss: 0.0065\n"
     ]
    },
    {
     "data": {
      "text/plain": [
       "<keras.callbacks.callbacks.History at 0x23ed4bd6048>"
      ]
     },
     "execution_count": 17,
     "metadata": {},
     "output_type": "execute_result"
    }
   ],
   "source": [
    "model.fit(x_train_input, x_train_input, validation_split=1/9, epochs=1)"
   ]
  },
  {
   "cell_type": "code",
   "execution_count": 18,
   "metadata": {},
   "outputs": [
    {
     "data": {
      "text/plain": [
       "1024.0"
      ]
     },
     "execution_count": 18,
     "metadata": {},
     "output_type": "execute_result"
    }
   ],
   "source": [
    "# Latent space for this configuration\n",
    "W = 8\n",
    "K = 3\n",
    "P = 1\n",
    "S = 1\n",
    "C = 16\n",
    "\n",
    "s3 = C*((((W-K+2*P)/S) + 1)**2)\n",
    "s3\n"
   ]
  },
  {
   "cell_type": "markdown",
   "metadata": {},
   "source": [
    "#### Fewer intermediate layers"
   ]
  },
  {
   "cell_type": "code",
   "execution_count": 19,
   "metadata": {},
   "outputs": [
    {
     "name": "stdout",
     "output_type": "stream",
     "text": [
      "Model: \"sequential_3\"\n",
      "_________________________________________________________________\n",
      "Layer (type)                 Output Shape              Param #   \n",
      "=================================================================\n",
      "conv2d_11 (Conv2D)           (None, 32, 32, 8)         224       \n",
      "_________________________________________________________________\n",
      "max_pooling2d_5 (MaxPooling2 (None, 16, 16, 8)         0         \n",
      "_________________________________________________________________\n",
      "conv2d_12 (Conv2D)           (None, 16, 16, 12)        876       \n",
      "_________________________________________________________________\n",
      "up_sampling2d_5 (UpSampling2 (None, 32, 32, 12)        0         \n",
      "_________________________________________________________________\n",
      "conv2d_13 (Conv2D)           (None, 32, 32, 3)         327       \n",
      "=================================================================\n",
      "Total params: 1,427\n",
      "Trainable params: 1,427\n",
      "Non-trainable params: 0\n",
      "_________________________________________________________________\n",
      "None\n"
     ]
    }
   ],
   "source": [
    "model = Sequential()\n",
    "model.add(Conv2D(8, (3, 3), activation='relu', padding=\"same\", input_shape=(32, 32, 3)))\n",
    "model.add(MaxPooling2D(pool_size=(2, 2), padding='same'))\n",
    "model.add(Conv2D(12, (3, 3), activation='relu', padding=\"same\"))\n",
    "model.add(UpSampling2D(size=(2, 2)))\n",
    "model.add(Conv2D(3, (3, 3), activation='relu', padding=\"same\"))\n",
    "model.compile(loss='mean_squared_error', optimizer='adam')\n",
    "print(model.summary())"
   ]
  },
  {
   "cell_type": "code",
   "execution_count": 20,
   "metadata": {},
   "outputs": [
    {
     "name": "stdout",
     "output_type": "stream",
     "text": [
      "Train on 8888 samples, validate on 1112 samples\n",
      "Epoch 1/1\n",
      "8888/8888 [==============================] - 9s 989us/step - loss: 0.0172 - val_loss: 0.0059\n"
     ]
    },
    {
     "data": {
      "text/plain": [
       "<keras.callbacks.callbacks.History at 0x23ed4d67748>"
      ]
     },
     "execution_count": 20,
     "metadata": {},
     "output_type": "execute_result"
    }
   ],
   "source": [
    "model.fit(x_test_input, x_test_input, validation_split=1/9, epochs=1)"
   ]
  },
  {
   "cell_type": "code",
   "execution_count": 21,
   "metadata": {},
   "outputs": [
    {
     "data": {
      "text/plain": [
       "3072.0"
      ]
     },
     "execution_count": 21,
     "metadata": {},
     "output_type": "execute_result"
    }
   ],
   "source": [
    "# Latent space for this configuration\n",
    "W = 16\n",
    "K = 3\n",
    "P = 1\n",
    "S = 1\n",
    "C = 12\n",
    "\n",
    "s3 = C*((((W-K+2*P)/S) + 1)**2)\n",
    "s3"
   ]
  },
  {
   "cell_type": "markdown",
   "metadata": {},
   "source": [
    "#### Different number of channels"
   ]
  },
  {
   "cell_type": "code",
   "execution_count": 22,
   "metadata": {},
   "outputs": [
    {
     "name": "stdout",
     "output_type": "stream",
     "text": [
      "Model: \"sequential_4\"\n",
      "_________________________________________________________________\n",
      "Layer (type)                 Output Shape              Param #   \n",
      "=================================================================\n",
      "conv2d_14 (Conv2D)           (None, 32, 32, 32)        896       \n",
      "_________________________________________________________________\n",
      "max_pooling2d_6 (MaxPooling2 (None, 16, 16, 32)        0         \n",
      "_________________________________________________________________\n",
      "conv2d_15 (Conv2D)           (None, 16, 16, 64)        18496     \n",
      "_________________________________________________________________\n",
      "max_pooling2d_7 (MaxPooling2 (None, 8, 8, 64)          0         \n",
      "_________________________________________________________________\n",
      "conv2d_16 (Conv2D)           (None, 8, 8, 128)         73856     \n",
      "_________________________________________________________________\n",
      "up_sampling2d_6 (UpSampling2 (None, 16, 16, 128)       0         \n",
      "_________________________________________________________________\n",
      "conv2d_17 (Conv2D)           (None, 16, 16, 64)        73792     \n",
      "_________________________________________________________________\n",
      "up_sampling2d_7 (UpSampling2 (None, 32, 32, 64)        0         \n",
      "_________________________________________________________________\n",
      "conv2d_18 (Conv2D)           (None, 32, 32, 3)         1731      \n",
      "=================================================================\n",
      "Total params: 168,771\n",
      "Trainable params: 168,771\n",
      "Non-trainable params: 0\n",
      "_________________________________________________________________\n",
      "None\n"
     ]
    }
   ],
   "source": [
    "model = Sequential()\n",
    "model.add(Conv2D(32, (3, 3), activation='relu', padding=\"same\", input_shape=(32, 32, 3)))\n",
    "model.add(MaxPooling2D(pool_size=(2, 2), padding='same'))\n",
    "model.add(Conv2D(64, (3, 3), activation='relu', padding=\"same\"))\n",
    "model.add(MaxPooling2D(pool_size=(2, 2), padding='same'))\n",
    "model.add(Conv2D(128, (3, 3), activation='relu', padding=\"same\"))\n",
    "model.add(UpSampling2D(size=(2, 2)))\n",
    "model.add(Conv2D(64, (3, 3), activation='relu', padding=\"same\"))\n",
    "model.add(UpSampling2D(size=(2, 2)))\n",
    "model.add(Conv2D(3, (3, 3), activation='relu', padding=\"same\"))\n",
    "model.compile(loss='mean_squared_error', optimizer='adam')\n",
    "print(model.summary())"
   ]
  },
  {
   "cell_type": "code",
   "execution_count": 23,
   "metadata": {},
   "outputs": [
    {
     "name": "stdout",
     "output_type": "stream",
     "text": [
      "Train on 8888 samples, validate on 1112 samples\n",
      "Epoch 1/1\n",
      "8888/8888 [==============================] - 51s 6ms/step - loss: 0.0123 - val_loss: 0.0054\n"
     ]
    },
    {
     "data": {
      "text/plain": [
       "<keras.callbacks.callbacks.History at 0x23ed4f30b88>"
      ]
     },
     "execution_count": 23,
     "metadata": {},
     "output_type": "execute_result"
    }
   ],
   "source": [
    "model.fit(x_test_input, x_test_input, validation_split=1/9, epochs=1)"
   ]
  },
  {
   "cell_type": "code",
   "execution_count": 24,
   "metadata": {},
   "outputs": [
    {
     "data": {
      "text/plain": [
       "8192.0"
      ]
     },
     "execution_count": 24,
     "metadata": {},
     "output_type": "execute_result"
    }
   ],
   "source": [
    "# Latent space for this configuration\n",
    "W = 8\n",
    "K = 3\n",
    "P = 1\n",
    "S = 1\n",
    "C = 128\n",
    "\n",
    "s3 = C*((((W-K+2*P)/S) + 1)**2)\n",
    "s3"
   ]
  },
  {
   "cell_type": "markdown",
   "metadata": {},
   "source": [
    "#### Different filter sizes"
   ]
  },
  {
   "cell_type": "code",
   "execution_count": 25,
   "metadata": {},
   "outputs": [
    {
     "name": "stdout",
     "output_type": "stream",
     "text": [
      "Model: \"sequential_5\"\n",
      "_________________________________________________________________\n",
      "Layer (type)                 Output Shape              Param #   \n",
      "=================================================================\n",
      "conv2d_19 (Conv2D)           (None, 32, 32, 8)         608       \n",
      "_________________________________________________________________\n",
      "max_pooling2d_8 (MaxPooling2 (None, 16, 16, 8)         0         \n",
      "_________________________________________________________________\n",
      "conv2d_20 (Conv2D)           (None, 16, 16, 12)        2412      \n",
      "_________________________________________________________________\n",
      "max_pooling2d_9 (MaxPooling2 (None, 8, 8, 12)          0         \n",
      "_________________________________________________________________\n",
      "conv2d_21 (Conv2D)           (None, 8, 8, 16)          4816      \n",
      "_________________________________________________________________\n",
      "up_sampling2d_8 (UpSampling2 (None, 16, 16, 16)        0         \n",
      "_________________________________________________________________\n",
      "conv2d_22 (Conv2D)           (None, 16, 16, 12)        4812      \n",
      "_________________________________________________________________\n",
      "up_sampling2d_9 (UpSampling2 (None, 32, 32, 12)        0         \n",
      "_________________________________________________________________\n",
      "conv2d_23 (Conv2D)           (None, 32, 32, 3)         903       \n",
      "=================================================================\n",
      "Total params: 13,551\n",
      "Trainable params: 13,551\n",
      "Non-trainable params: 0\n",
      "_________________________________________________________________\n",
      "None\n"
     ]
    }
   ],
   "source": [
    "model = Sequential()\n",
    "model.add(Conv2D(8, (5, 5), activation='relu', padding=\"same\", input_shape=(32, 32, 3)))\n",
    "model.add(MaxPooling2D(pool_size=(2, 2), padding='same'))\n",
    "model.add(Conv2D(12, (5, 5), activation='relu', padding=\"same\"))\n",
    "model.add(MaxPooling2D(pool_size=(2, 2), padding='same'))\n",
    "model.add(Conv2D(16, (5, 5), activation='relu', padding=\"same\"))\n",
    "model.add(UpSampling2D(size=(2, 2)))\n",
    "model.add(Conv2D(12, (5, 5), activation='relu', padding=\"same\"))\n",
    "model.add(UpSampling2D(size=(2, 2)))\n",
    "model.add(Conv2D(3, (5, 5), activation='relu', padding=\"same\"))\n",
    "model.compile(loss='mean_squared_error', optimizer='adam')\n",
    "print(model.summary())"
   ]
  },
  {
   "cell_type": "code",
   "execution_count": 26,
   "metadata": {},
   "outputs": [
    {
     "name": "stdout",
     "output_type": "stream",
     "text": [
      "Train on 8888 samples, validate on 1112 samples\n",
      "Epoch 1/1\n",
      "8888/8888 [==============================] - 20s 2ms/step - loss: 0.0292 - val_loss: 0.0118\n"
     ]
    },
    {
     "data": {
      "text/plain": [
       "<keras.callbacks.callbacks.History at 0x23ed508e408>"
      ]
     },
     "execution_count": 26,
     "metadata": {},
     "output_type": "execute_result"
    }
   ],
   "source": [
    "model.fit(x_test_input, x_test_input, validation_split=1/9, epochs=1)"
   ]
  },
  {
   "cell_type": "code",
   "execution_count": 27,
   "metadata": {},
   "outputs": [
    {
     "data": {
      "text/plain": [
       "576.0"
      ]
     },
     "execution_count": 27,
     "metadata": {},
     "output_type": "execute_result"
    }
   ],
   "source": [
    "# Latent space for this configuration\n",
    "W = 8\n",
    "K = 5\n",
    "P = 1\n",
    "S = 1\n",
    "C = 16\n",
    "\n",
    "s3 = C*((((W-K+2*P)/S) + 1)**2)\n",
    "s3"
   ]
  },
  {
   "cell_type": "markdown",
   "metadata": {},
   "source": [
    "#### Different stride and padding configurations"
   ]
  },
  {
   "cell_type": "code",
   "execution_count": 28,
   "metadata": {},
   "outputs": [
    {
     "data": {
      "text/plain": [
       "'model = Sequential()\\nmodel.add(Conv2D(8, (3, 3), activation=\\'relu\\', padding=\"valid\", input_shape=(32, 32, 3)))\\nmodel.add(MaxPooling2D(pool_size=(2, 2), padding=\\'valid\\'))\\nmodel.add(Conv2D(12, (3, 3), activation=\\'relu\\', padding=\"same\"))\\nmodel.add(MaxPooling2D(pool_size=(2, 2), padding=\\'same\\'))\\nmodel.add(Conv2D(16, (3, 3), activation=\\'relu\\', padding=\"same\"))\\nmodel.add(UpSampling2D(size=(2, 2)))\\nmodel.add(Conv2D(12, (3, 3), activation=\\'relu\\', padding=\"same\"))\\nmodel.add(UpSampling2D(size=(2, 2)))\\nmodel.add(Conv2D(3, (3, 3), activation=\\'relu\\', padding=\"same\"))\\nmodel.compile(loss=\\'mean_squared_error\\', optimizer=\\'adam\\')\\nprint(model.summary())\\n\\nmodel.fit(x_test_input, x_test_input, validation_split=1/9, epochs=1)'"
      ]
     },
     "execution_count": 28,
     "metadata": {},
     "output_type": "execute_result"
    }
   ],
   "source": [
    "# I could not finish this part\n",
    "\"\"\"model = Sequential()\n",
    "model.add(Conv2D(8, (3, 3), activation='relu', padding=\"valid\", input_shape=(32, 32, 3)))\n",
    "model.add(MaxPooling2D(pool_size=(2, 2), padding='valid'))\n",
    "model.add(Conv2D(12, (3, 3), activation='relu', padding=\"same\"))\n",
    "model.add(MaxPooling2D(pool_size=(2, 2), padding='same'))\n",
    "model.add(Conv2D(16, (3, 3), activation='relu', padding=\"same\"))\n",
    "model.add(UpSampling2D(size=(2, 2)))\n",
    "model.add(Conv2D(12, (3, 3), activation='relu', padding=\"same\"))\n",
    "model.add(UpSampling2D(size=(2, 2)))\n",
    "model.add(Conv2D(3, (3, 3), activation='relu', padding=\"same\"))\n",
    "model.compile(loss='mean_squared_error', optimizer='adam')\n",
    "print(model.summary())\n",
    "\n",
    "model.fit(x_test_input, x_test_input, validation_split=1/9, epochs=1)\"\"\""
   ]
  },
  {
   "cell_type": "markdown",
   "metadata": {},
   "source": [
    "### Colorization"
   ]
  },
  {
   "cell_type": "markdown",
   "metadata": {},
   "source": [
    "#### Chrominance"
   ]
  },
  {
   "cell_type": "code",
   "execution_count": 29,
   "metadata": {},
   "outputs": [],
   "source": [
    "ycrcb=[]\n",
    "for i in x_train:\n",
    "    _ = cv2.cvtColor(i, cv2.COLOR_BGR2YCrCb)\n",
    "    ycrcb.append(_)\n",
    "ycrcb = np.array(ycrcb)"
   ]
  },
  {
   "cell_type": "code",
   "execution_count": 30,
   "metadata": {},
   "outputs": [
    {
     "name": "stdout",
     "output_type": "stream",
     "text": [
      "Model: \"sequential_6\"\n",
      "_________________________________________________________________\n",
      "Layer (type)                 Output Shape              Param #   \n",
      "=================================================================\n",
      "conv2d_24 (Conv2D)           (None, 32, 32, 16)        160       \n",
      "_________________________________________________________________\n",
      "max_pooling2d_10 (MaxPooling (None, 16, 16, 16)        0         \n",
      "_________________________________________________________________\n",
      "conv2d_25 (Conv2D)           (None, 16, 16, 32)        4640      \n",
      "_________________________________________________________________\n",
      "max_pooling2d_11 (MaxPooling (None, 8, 8, 32)          0         \n",
      "_________________________________________________________________\n",
      "conv2d_26 (Conv2D)           (None, 8, 8, 64)          18496     \n",
      "_________________________________________________________________\n",
      "up_sampling2d_10 (UpSampling (None, 16, 16, 64)        0         \n",
      "_________________________________________________________________\n",
      "conv2d_27 (Conv2D)           (None, 16, 16, 32)        18464     \n",
      "_________________________________________________________________\n",
      "up_sampling2d_11 (UpSampling (None, 32, 32, 32)        0         \n",
      "_________________________________________________________________\n",
      "conv2d_28 (Conv2D)           (None, 32, 32, 2)         578       \n",
      "=================================================================\n",
      "Total params: 42,338\n",
      "Trainable params: 42,338\n",
      "Non-trainable params: 0\n",
      "_________________________________________________________________\n",
      "None\n"
     ]
    }
   ],
   "source": [
    "# Model for YCbCr\n",
    "# Input is the luminance (since luminance alone is equivalent to grayscale)\n",
    "# Output is the Color channels (remaining ones except luminance)\n",
    "model = Sequential()\n",
    "model.add(Conv2D(16, (3, 3), activation='relu', padding=\"same\", input_shape=(32, 32, 1)))\n",
    "model.add(MaxPooling2D(pool_size=(2, 2), padding='same'))\n",
    "model.add(Conv2D(32, (3, 3), activation='relu', padding=\"same\"))\n",
    "model.add(MaxPooling2D(pool_size=(2, 2), padding='same'))\n",
    "model.add(Conv2D(64, (3, 3), activation='relu', padding=\"same\"))\n",
    "model.add(UpSampling2D(size=(2, 2)))\n",
    "model.add(Conv2D(32, (3, 3), activation='relu', padding=\"same\"))\n",
    "model.add(UpSampling2D(size=(2, 2)))\n",
    "model.add(Conv2D(2, (3, 3), activation='relu', padding=\"same\"))\n",
    "model.compile(loss='mean_squared_error', optimizer='adam')\n",
    "print(model.summary())"
   ]
  },
  {
   "cell_type": "code",
   "execution_count": 31,
   "metadata": {
    "scrolled": true
   },
   "outputs": [],
   "source": [
    "# Normalization of the input\n",
    "# Input is the luminance\n",
    "# Output is the color channels\n",
    "grayscale_input = np.divide(np.reshape(ycrcb[:,:,:,0],(ycrcb[:,:,:,0].shape[0],32,32,1)), 255)\n",
    "color_channels = np.divide(np.stack((ycrcb[:,:,:,1],ycrcb[:,:,:,2]),axis=3), 255)"
   ]
  },
  {
   "cell_type": "code",
   "execution_count": 32,
   "metadata": {},
   "outputs": [
    {
     "name": "stdout",
     "output_type": "stream",
     "text": [
      "Train on 44444 samples, validate on 5556 samples\n",
      "Epoch 1/10\n",
      "44444/44444 [==============================] - 132s 3ms/step - loss: 0.0044 - val_loss: 0.0031\n",
      "Epoch 2/10\n",
      "44444/44444 [==============================] - 148s 3ms/step - loss: 0.0031 - val_loss: 0.0030\n",
      "Epoch 3/10\n",
      "44444/44444 [==============================] - 133s 3ms/step - loss: 0.0030 - val_loss: 0.0029\n",
      "Epoch 4/10\n",
      "44444/44444 [==============================] - 140s 3ms/step - loss: 0.0030 - val_loss: 0.0029\n",
      "Epoch 5/10\n",
      "44444/44444 [==============================] - 138s 3ms/step - loss: 0.0029 - val_loss: 0.0029\n",
      "Epoch 6/10\n",
      "44444/44444 [==============================] - 135s 3ms/step - loss: 0.0029 - val_loss: 0.0028\n",
      "Epoch 7/10\n",
      "44444/44444 [==============================] - 138s 3ms/step - loss: 0.0029 - val_loss: 0.0029\n",
      "Epoch 8/10\n",
      "44444/44444 [==============================] - 134s 3ms/step - loss: 0.0029 - val_loss: 0.0029\n",
      "Epoch 9/10\n",
      "44444/44444 [==============================] - 141s 3ms/step - loss: 0.0029 - val_loss: 0.0029\n",
      "Epoch 10/10\n",
      "44444/44444 [==============================] - 127s 3ms/step - loss: 0.0029 - val_loss: 0.0028\n"
     ]
    },
    {
     "data": {
      "text/plain": [
       "<keras.callbacks.callbacks.History at 0x23ed5434a88>"
      ]
     },
     "execution_count": 32,
     "metadata": {},
     "output_type": "execute_result"
    }
   ],
   "source": [
    "# Training the colorization model\n",
    "# Input is the luminance\n",
    "# Output is the color channelss\n",
    "# In the end, the luminance and the predicted color channels will be concatenated\n",
    "model.fit(grayscale_input, color_channels, validation_split=1/9, epochs=10)"
   ]
  },
  {
   "cell_type": "code",
   "execution_count": 33,
   "metadata": {},
   "outputs": [],
   "source": [
    "# Preparing test data\n",
    "ycrcb_test=[]\n",
    "for i in x_test:\n",
    "    _ = cv2.cvtColor(i, cv2.COLOR_BGR2YCrCb)\n",
    "    ycrcb_test.append(_)\n",
    "ycrcb_test = np.array(ycrcb_test)\n",
    "\n",
    "grayscale_input_test = np.divide(np.reshape(ycrcb_test[:,:,:,0],(ycrcb_test[:,:,:,0].shape[0],32,32,1)), 255)\n",
    "color_channels_test = np.divide(np.stack((ycrcb_test[:,:,:,1],ycrcb_test[:,:,:,2]),axis=3), 255)"
   ]
  },
  {
   "cell_type": "code",
   "execution_count": 34,
   "metadata": {},
   "outputs": [
    {
     "name": "stdout",
     "output_type": "stream",
     "text": [
      "10000/10000 [==============================] - 5s 497us/step\n"
     ]
    },
    {
     "data": {
      "text/plain": [
       "0.002785942277871072"
      ]
     },
     "execution_count": 34,
     "metadata": {},
     "output_type": "execute_result"
    }
   ],
   "source": [
    "# Test error\n",
    "result = model.evaluate(grayscale_input_test, color_channels_test)\n",
    "result"
   ]
  },
  {
   "cell_type": "code",
   "execution_count": 35,
   "metadata": {
    "scrolled": true
   },
   "outputs": [],
   "source": [
    "# Predicting the results\n",
    "x_pred = model.predict(grayscale_input_test)"
   ]
  },
  {
   "cell_type": "code",
   "execution_count": 36,
   "metadata": {},
   "outputs": [],
   "source": [
    "x_pred_ = np.zeros((len(x_test),32,32,3))\n",
    "x_pred_[:,:,:,0] = grayscale_input_test[:,:,:,0]\n",
    "x_pred_[:,:,:,1] = x_pred[:,:,:,0]     \n",
    "x_pred_[:,:,:,2] = x_pred[:,:,:,1]\n",
    "x_pred_ = np.multiply(x_pred_, 255)\n",
    "x_pred_ = np.asarray(x_pred_, dtype=np.uint8)"
   ]
  },
  {
   "cell_type": "code",
   "execution_count": 37,
   "metadata": {
    "scrolled": true
   },
   "outputs": [],
   "source": [
    "x_pred__=[]\n",
    "for i in x_pred_:\n",
    "    _ = cv2.cvtColor(i, cv2.COLOR_YCrCb2BGR)\n",
    "    x_pred__.append(_)\n",
    "x_pred__ = np.array(x_pred__)"
   ]
  },
  {
   "cell_type": "code",
   "execution_count": 38,
   "metadata": {},
   "outputs": [
    {
     "data": {
      "text/plain": [
       "<matplotlib.image.AxesImage at 0x23ed56acb48>"
      ]
     },
     "execution_count": 38,
     "metadata": {},
     "output_type": "execute_result"
    },
    {
     "data": {
      "image/png": "[encoded data removed]",
      "text/plain": [
       "<Figure size 432x288 with 9 Axes>"
      ]
     },
     "metadata": {
      "needs_background": "light"
     },
     "output_type": "display_data"
    }
   ],
   "source": [
    "# Displaying the results\n",
    "fig, axs = plt.subplots(3, 3)\n",
    "axs[0, 0].imshow(x_test[0])\n",
    "axs[1, 0].imshow(x_test[1])\n",
    "axs[2, 0].imshow(x_test[2])\n",
    "\n",
    "axs[0, 1].imshow(ycrcb_test[0,:,:,0], cmap='gray')\n",
    "axs[1, 1].imshow(ycrcb_test[1,:,:,0], cmap='gray')\n",
    "axs[2, 1].imshow(ycrcb_test[2,:,:,0], cmap='gray')\n",
    "\n",
    "axs[0, 2].imshow(x_pred__[0])\n",
    "axs[1, 2].imshow(x_pred__[1])\n",
    "axs[2, 2].imshow(x_pred__[2])"
   ]
  }
 ],
 "metadata": {
  "kernelspec": {
   "display_name": "Python 3",
   "language": "python",
   "name": "python3"
  },
  "language_info": {
   "codemirror_mode": {
    "name": "ipython",
    "version": 3
   },
   "file_extension": ".py",
   "mimetype": "text/x-python",
   "name": "python",
   "nbconvert_exporter": "python",
   "pygments_lexer": "ipython3",
   "version": "3.7.6"
  }
 },
 "nbformat": 4,
 "nbformat_minor": 4
}
