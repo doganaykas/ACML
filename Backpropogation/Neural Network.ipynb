{
 "cells": [
  {
   "cell_type": "markdown",
   "metadata": {},
   "source": [
    "# ACML: Neural Networks\n",
    "## Dogan Aykas 6227725"
   ]
  },
  {
   "cell_type": "code",
   "execution_count": 1,
   "metadata": {},
   "outputs": [],
   "source": [
    "import numpy as np\n",
    "import matplotlib.pyplot as plt"
   ]
  },
  {
   "cell_type": "code",
   "execution_count": 2,
   "metadata": {},
   "outputs": [],
   "source": [
    "# Setting random seed to certain value\n",
    "np.random.seed(1)"
   ]
  },
  {
   "cell_type": "code",
   "execution_count": 3,
   "metadata": {},
   "outputs": [],
   "source": [
    "# Sigmoid Function necessary for calculation activation values based on z\n",
    "def sigmoid(x):\n",
    "    return 1/(1 + np.exp(-x))"
   ]
  },
  {
   "cell_type": "code",
   "execution_count": 4,
   "metadata": {},
   "outputs": [],
   "source": [
    "# Helper function for choosing hyperparameters\n",
    "def Average(lst): \n",
    "    return sum(lst) / len(lst) "
   ]
  },
  {
   "cell_type": "code",
   "execution_count": 5,
   "metadata": {},
   "outputs": [],
   "source": [
    "# List containing all the training examples which are vectors\n",
    "x_m = [np.array([[1],\n",
    "               [0],\n",
    "               [0],\n",
    "               [0],\n",
    "               [0],\n",
    "               [0],\n",
    "               [0],\n",
    "               [0]]), np.array([[0],\n",
    "               [1],\n",
    "               [0],\n",
    "               [0],\n",
    "               [0],\n",
    "               [0],\n",
    "               [0],\n",
    "               [0]]), np.array([[0],\n",
    "               [0],\n",
    "               [1],\n",
    "               [0],\n",
    "               [0],\n",
    "               [0],\n",
    "               [0],\n",
    "               [0]]), np.array([[0],\n",
    "               [0],\n",
    "               [0],\n",
    "               [1],\n",
    "               [0],\n",
    "               [0],\n",
    "               [0],\n",
    "               [0]]), np.array([[0],\n",
    "               [0],\n",
    "               [0],\n",
    "               [0],\n",
    "               [1],\n",
    "               [0],\n",
    "               [0],\n",
    "               [0]]), np.array([[0],\n",
    "               [0],\n",
    "               [0],\n",
    "               [0],\n",
    "               [0],\n",
    "               [1],\n",
    "               [0],\n",
    "               [0]]), np.array([[0],\n",
    "               [0],\n",
    "               [0],\n",
    "               [0],\n",
    "               [0],\n",
    "               [0],\n",
    "               [1],\n",
    "               [0]]), np.array([[0],\n",
    "               [0],\n",
    "               [0],\n",
    "               [0],\n",
    "               [0],\n",
    "               [0],\n",
    "               [0],\n",
    "               [1]])]"
   ]
  },
  {
   "cell_type": "code",
   "execution_count": 6,
   "metadata": {},
   "outputs": [],
   "source": [
    "# Feedforward function returning the necessary z2, z3, a2 and a3 values\n",
    "def feedforward(x):\n",
    "    z2 = (np.matmul(W1, x) + b1)\n",
    "    a2 = sigmoid(z2)\n",
    "    z3 = (np.matmul(W2, a2) + b2)\n",
    "    a3 = sigmoid(z3)\n",
    "    return z2, z3, a2, a3"
   ]
  },
  {
   "cell_type": "code",
   "execution_count": 7,
   "metadata": {},
   "outputs": [],
   "source": [
    "# Implementation function of the gradient descent. Takes iteration amount, alpha and lambda values as inputs and returns the updated W1, W2, b1 and b2 matrices\n",
    "def backpropagation(iterations, alpha, lambd):\n",
    "    W1 = np.random.rand(3,8)\n",
    "    W2 = np.random.rand(8,3)\n",
    "    b1 = np.random.rand(3,1)\n",
    "    b2 = np.random.rand(8,1)\n",
    "    for i in range(iterations):\n",
    "        d_W_1_f = np.zeros((3,8))\n",
    "        d_W_2_f = np.zeros((8,3))\n",
    "        b1_f = np.zeros((3,1))\n",
    "        b2_f = np.zeros((8,1))\n",
    "        for j in range(8):\n",
    "            z2 = (np.matmul(W1, x_m[j]) + b1)\n",
    "            a2 = sigmoid(z2)\n",
    "            z3 = (np.matmul(W2, a2) + b2)\n",
    "            a3 = sigmoid(z3)\n",
    "            e3 = np.multiply(-1*(x_m[j] - a3), np.multiply(a3, 1 - a3))\n",
    "            e2 = np.multiply(np.matmul(W2.T, e3), np.multiply(a2, 1 - a2))\n",
    "            d_W_1 = np.matmul(e2, x_m[j].T)\n",
    "            d_W_2 = np.matmul(e3, a2.T)\n",
    "            d_b_1 = e2\n",
    "            d_b_2 = e3 \n",
    "            d_W_1_f = d_W_1_f + d_W_1\n",
    "            d_W_2_f = d_W_2_f + d_W_2\n",
    "            b1_f = b1_f + d_b_1\n",
    "            b2_f = b2_f + d_b_2\n",
    "        W1 = W1 - alpha*(((1/8)*d_W_1_f) + lambd*W1)\n",
    "        W2 = W2 - alpha*(((1/8)*d_W_2_f) + lambd*W2)\n",
    "        b1 = b1 - alpha*((1/8)*b1_f)\n",
    "        b2 = b2 - alpha*((1/8)*b2_f)\n",
    "    return W1, W2, b1, b2"
   ]
  },
  {
   "cell_type": "code",
   "execution_count": 8,
   "metadata": {
    "scrolled": true
   },
   "outputs": [],
   "source": [
    "# Experimenting with different learning rate values\n",
    "a = []\n",
    "acc = []\n",
    "for x in np.arange(0, 1.1, 0.05):\n",
    "    W1, W2, b1, b2 = backpropagation(iterations = 10000, alpha=x, lambd=0)\n",
    "    aa = []\n",
    "    for i in range(len(x_m)):\n",
    "        z2, z3, a2, a3 = feedforward(x_m[i])\n",
    "        #print(a3[i])\n",
    "        aa.append(a3[i])\n",
    "    a.append(aa)\n",
    "    \n",
    "for i in a:\n",
    "    acc.append(Average(i))"
   ]
  },
  {
   "cell_type": "code",
   "execution_count": 9,
   "metadata": {},
   "outputs": [
    {
     "data": {
      "text/plain": [
       "Text(0.5, 0, 'Learning Rate Parameter vs Accuracy')"
      ]
     },
     "execution_count": 9,
     "metadata": {},
     "output_type": "execute_result"
    },
    {
     "data": {
      "image/png": "[encoded data removed]",
      "text/plain": [
       "<Figure size 432x288 with 1 Axes>"
      ]
     },
     "metadata": {
      "needs_background": "light"
     },
     "output_type": "display_data"
    }
   ],
   "source": [
    "# Depicting accuracy for different choices of learning rate\n",
    "plt.plot(np.arange(0, 1.1, 0.05), acc) \n",
    "plt.xlabel(\"Learning Rate Parameter vs Accuracy\")"
   ]
  },
  {
   "cell_type": "code",
   "execution_count": 10,
   "metadata": {},
   "outputs": [],
   "source": [
    "# Experimenting with different weight decay values\n",
    "a = []\n",
    "acc = []\n",
    "for x in np.arange(0, 1.1, 0.05):\n",
    "    W1, W2, b1, b2 = backpropagation(iterations = 10000, alpha=0.85, lambd=x)\n",
    "    aa = []\n",
    "    for i in range(len(x_m)):\n",
    "        z2, z3, a2, a3 = feedforward(x_m[i])\n",
    "        #print(a3[i])\n",
    "        aa.append(a3[i])\n",
    "    a.append(aa)\n",
    "    \n",
    "for i in a:\n",
    "    acc.append(Average(i))"
   ]
  },
  {
   "cell_type": "code",
   "execution_count": 11,
   "metadata": {
    "scrolled": false
   },
   "outputs": [
    {
     "data": {
      "text/plain": [
       "Text(0.5, 0, 'Weight Decay Parameter vs Accuracy')"
      ]
     },
     "execution_count": 11,
     "metadata": {},
     "output_type": "execute_result"
    },
    {
     "data": {
      "image/png": "[encoded data removed]",
      "text/plain": [
       "<Figure size 432x288 with 1 Axes>"
      ]
     },
     "metadata": {
      "needs_background": "light"
     },
     "output_type": "display_data"
    }
   ],
   "source": [
    "# Depicting accuracy for different choices of weight decay\n",
    "plt.plot(np.arange(0, 1.1, 0.05), acc) \n",
    "plt.xlabel(\"Weight Decay Parameter vs Accuracy\")"
   ]
  },
  {
   "cell_type": "code",
   "execution_count": 12,
   "metadata": {},
   "outputs": [],
   "source": [
    "# Calling the backpropagation function\n",
    "W1, W2, b1, b2 = backpropagation(iterations = 1000000, alpha=0.85, lambd=0)"
   ]
  },
  {
   "cell_type": "code",
   "execution_count": 13,
   "metadata": {},
   "outputs": [
    {
     "name": "stdout",
     "output_type": "stream",
     "text": [
      "[0.99285169]\n",
      "[0.99343514]\n",
      "[0.99188065]\n",
      "[0.99336863]\n",
      "[0.99479189]\n",
      "[0.99143645]\n",
      "[0.99376574]\n",
      "[0.99284371]\n"
     ]
    }
   ],
   "source": [
    "# Showing the activation values of the output neurons, each converging to 1 or 0, depending on the input values of training examples\n",
    "# Replace a3[i] with a3 for depicting the values of all nodes for all examples.\n",
    "for i in range(len(x_m)):\n",
    "    z2, z3, a2, a3 = feedforward(x_m[i])\n",
    "    print(a3[i])"
   ]
  },
  {
   "cell_type": "code",
   "execution_count": 14,
   "metadata": {},
   "outputs": [
    {
     "data": {
      "text/plain": [
       "array([[ 4.86170246, -2.83199226,  6.31077546, -5.43253138, -3.22927088,\n",
       "         1.59847906, -4.57978743,  4.67220003],\n",
       "       [-1.17833605,  4.6307884 ,  6.71036666,  4.39668447, -3.70609407,\n",
       "         1.33551276, -4.63427531, -5.35851288],\n",
       "       [ 6.41428751,  6.16604059,  0.81400597, -0.86868162, -3.59076653,\n",
       "        -6.64995992,  2.11260624, -0.62901002]])"
      ]
     },
     "execution_count": 14,
     "metadata": {},
     "output_type": "execute_result"
    }
   ],
   "source": [
    "W1"
   ]
  },
  {
   "cell_type": "code",
   "execution_count": 15,
   "metadata": {
    "scrolled": true
   },
   "outputs": [
    {
     "data": {
      "text/plain": [
       "array([[  9.10062021,  -5.82245087,  15.16866961],\n",
       "       [ -6.26991442,   8.88540071,  13.63002566],\n",
       "       [ 11.55967384,  13.00624992,   3.08086252],\n",
       "       [-13.14656556,  13.70357729, -13.27716444],\n",
       "       [ -8.49434189,  -9.14893879, -13.1984179 ],\n",
       "       [  8.70240328,   7.49175148, -25.81023761],\n",
       "       [-11.12444605, -12.47007147,  12.16225687],\n",
       "       [ 13.93226474, -15.42140252, -11.60718592]])"
      ]
     },
     "execution_count": 15,
     "metadata": {},
     "output_type": "execute_result"
    }
   ],
   "source": [
    "W2"
   ]
  },
  {
   "cell_type": "code",
   "execution_count": 16,
   "metadata": {},
   "outputs": [
    {
     "data": {
      "text/plain": [
       "array([[-0.68854839],\n",
       "       [-0.71978381],\n",
       "       [-0.29632253]])"
      ]
     },
     "execution_count": 16,
     "metadata": {},
     "output_type": "execute_result"
    }
   ],
   "source": [
    "b1"
   ]
  },
  {
   "cell_type": "code",
   "execution_count": 17,
   "metadata": {},
   "outputs": [
    {
     "data": {
      "text/plain": [
       "array([[-18.40539703],\n",
       "       [-17.10305714],\n",
       "       [-21.61693866],\n",
       "       [ -5.17054947],\n",
       "       [  5.79128491],\n",
       "       [ -6.29223379],\n",
       "       [ -5.27384002],\n",
       "       [ -5.41481104]])"
      ]
     },
     "execution_count": 17,
     "metadata": {},
     "output_type": "execute_result"
    }
   ],
   "source": [
    "b2"
   ]
  }
 ],
 "metadata": {
  "kernelspec": {
   "display_name": "Python 3",
   "language": "python",
   "name": "python3"
  },
  "language_info": {
   "codemirror_mode": {
    "name": "ipython",
    "version": 3
   },
   "file_extension": ".py",
   "mimetype": "text/x-python",
   "name": "python",
   "nbconvert_exporter": "python",
   "pygments_lexer": "ipython3",
   "version": "3.7.6"
  }
 },
 "nbformat": 4,
 "nbformat_minor": 2
}
